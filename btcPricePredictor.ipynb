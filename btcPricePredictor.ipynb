{
  "nbformat": 4,
  "nbformat_minor": 0,
  "metadata": {
    "colab": {
      "name": "btcPricePredictor",
      "provenance": [],
      "collapsed_sections": []
    },
    "kernelspec": {
      "name": "python3",
      "display_name": "Python 3"
    },
    "language_info": {
      "name": "python"
    },
    "accelerator": "GPU"
  },
  "cells": [
    {
      "cell_type": "code",
      "metadata": {
        "id": "2IlwhV0z2nMr"
      },
      "source": [
        "%matplotlib inline"
      ],
      "execution_count": null,
      "outputs": []
    },
    {
      "cell_type": "code",
      "metadata": {
        "id": "Bv1G7ixQvN8E"
      },
      "source": [
        "import numpy as np\n",
        "import pandas as pd\n",
        "import matplotlib.pyplot as plt\n",
        "import seaborn as sns\n",
        "\n",
        "import tensorflow as tf\n",
        "\n",
        "from sklearn.metrics import accuracy_score, precision_score, recall_score\n",
        "from sklearn.model_selection import train_test_split\n",
        "from tensorflow.keras import layers, losses\n",
        "from tensorflow.keras.datasets import fashion_mnist\n",
        "from tensorflow.keras.models import Model"
      ],
      "execution_count": null,
      "outputs": []
    },
    {
      "cell_type": "markdown",
      "metadata": {
        "id": "B1U2O-ElzqES"
      },
      "source": [
        "Downloading CSV file from Yahoo Finance on BTC Prices"
      ]
    },
    {
      "cell_type": "code",
      "metadata": {
        "id": "iExiItBkdS8F"
      },
      "source": [
        "from pydrive.auth import GoogleAuth\n",
        "from pydrive.drive import GoogleDrive\n",
        "from google.colab import auth\n",
        "from oauth2client.client import GoogleCredentials\n",
        "import io\n",
        "import zipfile\n",
        "auth.authenticate_user()\n",
        "gauth = GoogleAuth()\n",
        "gauth.credentials = GoogleCredentials.get_application_default()\n",
        "drive = GoogleDrive(gauth)\n",
        "file_id = '1JbrxeSqazKn-WjizVDPG9VvhkXVG--D-'\n",
        "downloaded = drive.CreateFile({'id': file_id})\n",
        "downloaded.GetContentFile('BTC-USD.csv')\n"
      ],
      "execution_count": null,
      "outputs": []
    },
    {
      "cell_type": "code",
      "metadata": {
        "id": "_ab-5H8XVOVi"
      },
      "source": [
        "# Create pandas dataframe\n",
        "data = pd.read_csv('BTC-USD.csv')"
      ],
      "execution_count": null,
      "outputs": []
    },
    {
      "cell_type": "code",
      "metadata": {
        "id": "8W_KrGElWT0y",
        "colab": {
          "base_uri": "https://localhost:8080/",
          "height": 204
        },
        "outputId": "ef718890-c6ba-418a-d1f1-aacc237bd87e"
      },
      "source": [
        "# Plot data.head()\n",
        "data.head()"
      ],
      "execution_count": null,
      "outputs": [
        {
          "output_type": "execute_result",
          "data": {
            "text/html": [
              "<div>\n",
              "<style scoped>\n",
              "    .dataframe tbody tr th:only-of-type {\n",
              "        vertical-align: middle;\n",
              "    }\n",
              "\n",
              "    .dataframe tbody tr th {\n",
              "        vertical-align: top;\n",
              "    }\n",
              "\n",
              "    .dataframe thead th {\n",
              "        text-align: right;\n",
              "    }\n",
              "</style>\n",
              "<table border=\"1\" class=\"dataframe\">\n",
              "  <thead>\n",
              "    <tr style=\"text-align: right;\">\n",
              "      <th></th>\n",
              "      <th>Date</th>\n",
              "      <th>Open</th>\n",
              "      <th>High</th>\n",
              "      <th>Low</th>\n",
              "      <th>Close</th>\n",
              "      <th>Adj Close</th>\n",
              "      <th>Volume</th>\n",
              "    </tr>\n",
              "  </thead>\n",
              "  <tbody>\n",
              "    <tr>\n",
              "      <th>0</th>\n",
              "      <td>2014-09-17</td>\n",
              "      <td>465.864014</td>\n",
              "      <td>468.174011</td>\n",
              "      <td>452.421997</td>\n",
              "      <td>457.334015</td>\n",
              "      <td>457.334015</td>\n",
              "      <td>21056800.0</td>\n",
              "    </tr>\n",
              "    <tr>\n",
              "      <th>1</th>\n",
              "      <td>2014-09-18</td>\n",
              "      <td>456.859985</td>\n",
              "      <td>456.859985</td>\n",
              "      <td>413.104004</td>\n",
              "      <td>424.440002</td>\n",
              "      <td>424.440002</td>\n",
              "      <td>34483200.0</td>\n",
              "    </tr>\n",
              "    <tr>\n",
              "      <th>2</th>\n",
              "      <td>2014-09-19</td>\n",
              "      <td>424.102997</td>\n",
              "      <td>427.834991</td>\n",
              "      <td>384.532013</td>\n",
              "      <td>394.795990</td>\n",
              "      <td>394.795990</td>\n",
              "      <td>37919700.0</td>\n",
              "    </tr>\n",
              "    <tr>\n",
              "      <th>3</th>\n",
              "      <td>2014-09-20</td>\n",
              "      <td>394.673004</td>\n",
              "      <td>423.295990</td>\n",
              "      <td>389.882996</td>\n",
              "      <td>408.903992</td>\n",
              "      <td>408.903992</td>\n",
              "      <td>36863600.0</td>\n",
              "    </tr>\n",
              "    <tr>\n",
              "      <th>4</th>\n",
              "      <td>2014-09-21</td>\n",
              "      <td>408.084991</td>\n",
              "      <td>412.425995</td>\n",
              "      <td>393.181000</td>\n",
              "      <td>398.821014</td>\n",
              "      <td>398.821014</td>\n",
              "      <td>26580100.0</td>\n",
              "    </tr>\n",
              "  </tbody>\n",
              "</table>\n",
              "</div>"
            ],
            "text/plain": [
              "         Date        Open        High  ...       Close   Adj Close      Volume\n",
              "0  2014-09-17  465.864014  468.174011  ...  457.334015  457.334015  21056800.0\n",
              "1  2014-09-18  456.859985  456.859985  ...  424.440002  424.440002  34483200.0\n",
              "2  2014-09-19  424.102997  427.834991  ...  394.795990  394.795990  37919700.0\n",
              "3  2014-09-20  394.673004  423.295990  ...  408.903992  408.903992  36863600.0\n",
              "4  2014-09-21  408.084991  412.425995  ...  398.821014  398.821014  26580100.0\n",
              "\n",
              "[5 rows x 7 columns]"
            ]
          },
          "metadata": {
            "tags": []
          },
          "execution_count": 343
        }
      ]
    },
    {
      "cell_type": "markdown",
      "metadata": {
        "id": "x0UzN1BASfgD"
      },
      "source": [
        "Let's plot the bitcoin price. I make a plot of bitcoin price vs the days after September 15, 2014, the start date of this dataset. Day \"0\" indicates September 15, 2014."
      ]
    },
    {
      "cell_type": "code",
      "metadata": {
        "id": "UjcXKOtg6jb5",
        "colab": {
          "base_uri": "https://localhost:8080/",
          "height": 265
        },
        "outputId": "05ac18d0-bf16-4307-a121-53a8cb9925ba"
      },
      "source": [
        "import matplotlib.pyplot as plt\n",
        "import seaborn as sns # Used for plotting\n",
        "\n",
        "g = sns.lineplot(x = np.linspace(1,2495,2495), y = data['High'].values.reshape(-1))\n"
      ],
      "execution_count": null,
      "outputs": [
        {
          "output_type": "display_data",
          "data": {
            "image/png": "[encoded data removed]",
            "text/plain": [
              "<Figure size 432x288 with 1 Axes>"
            ]
          },
          "metadata": {
            "tags": [],
            "needs_background": "light"
          }
        }
      ]
    },
    {
      "cell_type": "markdown",
      "metadata": {
        "id": "Upn-QIHf6mwa"
      },
      "source": [
        "Next, we plot bitcoin vs. days. But this time there are dates added to the graph."
      ]
    },
    {
      "cell_type": "code",
      "metadata": {
        "id": "qaUQJVYCSc-S",
        "colab": {
          "base_uri": "https://localhost:8080/",
          "height": 514
        },
        "outputId": "b5dbc9e4-31c2-45ba-c42c-f49a51ccbbf0"
      },
      "source": [
        "import matplotlib.pyplot as plt\n",
        "import seaborn as sns # Used for plotting\n",
        "g = sns.lineplot(x = np.linspace(1,2495,2495), y = data['High'].values.reshape(-1))\n",
        "#g.map(plt.plot, \"a\", \"v\", marker=\"o\")\n",
        "g.set(xticks=np.arange(0,2500,200))\n",
        "g.set_xticklabels(rotation=30, labels = data['Date'][0::200])"
      ],
      "execution_count": null,
      "outputs": [
        {
          "output_type": "execute_result",
          "data": {
            "text/plain": [
              "[Text(0, 0, '2014-09-17'),\n",
              " Text(0, 0, '2015-04-05'),\n",
              " Text(0, 0, '2015-10-22'),\n",
              " Text(0, 0, '2016-05-09'),\n",
              " Text(0, 0, '2016-11-25'),\n",
              " Text(0, 0, '2017-06-13'),\n",
              " Text(0, 0, '2017-12-30'),\n",
              " Text(0, 0, '2018-07-18'),\n",
              " Text(0, 0, '2019-02-03'),\n",
              " Text(0, 0, '2019-08-22'),\n",
              " Text(0, 0, '2020-03-09'),\n",
              " Text(0, 0, '2020-09-25'),\n",
              " Text(0, 0, '2021-04-13')]"
            ]
          },
          "metadata": {
            "tags": []
          },
          "execution_count": 345
        },
        {
          "output_type": "display_data",
          "data": {
            "image/png": "[encoded data removed]",
            "text/plain": [
              "<Figure size 432x288 with 1 Axes>"
            ]
          },
          "metadata": {
            "tags": [],
            "needs_background": "light"
          }
        }
      ]
    },
    {
      "cell_type": "markdown",
      "metadata": {
        "id": "DHC5nm2AMwT4"
      },
      "source": [
        "Data preprocessing"
      ]
    },
    {
      "cell_type": "code",
      "metadata": {
        "id": "mhTJ8iATNFlC",
        "colab": {
          "base_uri": "https://localhost:8080/"
        },
        "outputId": "98a4a561-0ef1-49f1-d706-26c5b83e435a"
      },
      "source": [
        "# Create a dataframe that only contains High Column.\n",
        "data.dropna()\n",
        "data_high = pd.DataFrame(data, columns = ['High'])\n",
        "data_high = data_high.to_numpy()\n",
        "print(data_high)"
      ],
      "execution_count": null,
      "outputs": [
        {
          "output_type": "stream",
          "text": [
            "[[  468.174011]\n",
            " [  456.859985]\n",
            " [  427.834991]\n",
            " ...\n",
            " [33061.398438]\n",
            " [33159.640625]\n",
            " [32218.40625 ]]\n"
          ],
          "name": "stdout"
        }
      ]
    },
    {
      "cell_type": "markdown",
      "metadata": {
        "id": "JJ6wmmb2DJnE"
      },
      "source": [
        "\n",
        "Used MinMaxScaler to scale the data for my use."
      ]
    },
    {
      "cell_type": "code",
      "metadata": {
        "id": "4FXLabvyCEN_",
        "colab": {
          "base_uri": "https://localhost:8080/"
        },
        "outputId": "6d7b2781-8925-4263-c8d5-e0d32eb918f8"
      },
      "source": [
        "from sklearn.preprocessing import MinMaxScaler\n",
        "scaler = MinMaxScaler()\n",
        "\n",
        "data_normalized = scaler.fit_transform(data_high) \n",
        "print(data_high.shape)"
      ],
      "execution_count": null,
      "outputs": [
        {
          "output_type": "stream",
          "text": [
            "(2495, 1)\n"
          ],
          "name": "stdout"
        }
      ]
    },
    {
      "cell_type": "code",
      "metadata": {
        "id": "jtz4UhmUNngP"
      },
      "source": [
        "\n",
        "def create_dataset(dataset, time_steps=1):\n",
        "    dataX, dataY = [],[]\n",
        "    for i in range(len(dataset)-time_steps-1):\n",
        "        a = dataset[i:(i+time_steps)]\n",
        "        dataX.append(a)\n",
        "        dataY.append(dataset[i + time_steps])\n",
        "    return np.array(dataX), np.array(dataY)"
      ],
      "execution_count": null,
      "outputs": []
    },
    {
      "cell_type": "code",
      "metadata": {
        "id": "GtUFvFWuNmiQ"
      },
      "source": [
        "# Chose the number of time steps that the model \"looks back\"\n",
        "time_steps = 4\n",
        "\n",
        "# Produced my dataset based on the number of days the model could look back\n",
        "X, y = create_dataset(data_normalized, time_steps=time_steps)\n",
        "#X = np.reshape(X, (2490, 4))\n",
        "#y = np.reshape(y, (2490,))\n",
        "\n"
      ],
      "execution_count": null,
      "outputs": []
    },
    {
      "cell_type": "markdown",
      "metadata": {
        "id": "lVOui6W0Nn-v"
      },
      "source": [
        "Split data into train and test sets. Use 80\\% for training and 20\\% for testing."
      ]
    },
    {
      "cell_type": "code",
      "metadata": {
        "id": "q-lwp69bNn-v"
      },
      "source": [
        "from sklearn.model_selection import train_test_split\n",
        "X_train, X_test, y_train, y_test = train_test_split(X, y, test_size = 0.20, random_state = 0, shuffle=False)"
      ],
      "execution_count": null,
      "outputs": []
    },
    {
      "cell_type": "code",
      "metadata": {
        "id": "VGY8MCxWSRpv"
      },
      "source": [
        "# Reshaped input to be [samples, time steps, features].\n",
        "X_train = np.reshape(X_train, (X_train.shape[0], 1, X_train.shape[1]))\n",
        "X_test = np.reshape(X_test, (X_test.shape[0], 1, X_test.shape[1]))"
      ],
      "execution_count": null,
      "outputs": []
    },
    {
      "cell_type": "code",
      "metadata": {
        "colab": {
          "base_uri": "https://localhost:8080/"
        },
        "id": "9I5ACm3pbrfh",
        "outputId": "142f81c0-d987-4d91-ff78-8d3fb49587ca"
      },
      "source": [
        "print(X_train.shape, X_test.shape)"
      ],
      "execution_count": null,
      "outputs": [
        {
          "output_type": "stream",
          "text": [
            "(1992, 1, 4) (498, 1, 4)\n"
          ],
          "name": "stdout"
        }
      ]
    },
    {
      "cell_type": "markdown",
      "metadata": {
        "id": "QI6ZFzquTh_R"
      },
      "source": [
        "Compile my RNN model and display the summary:"
      ]
    },
    {
      "cell_type": "code",
      "metadata": {
        "id": "6UVNRGQlTh_S",
        "colab": {
          "base_uri": "https://localhost:8080/"
        },
        "outputId": "14f6dc00-a871-44f0-fdc5-16a64aeaaf6e"
      },
      "source": [
        "from tensorflow.keras.layers import Embedding, Dense, Dropout, Input, LSTM\n",
        "print(X_train.shape, y_train.shape)\n",
        "input_layer = Input(shape=(1,4))\n",
        "x = LSTM(64)(input_layer) \n",
        "print(x.shape)\n",
        "x = Dense(64, activation='relu')(x)\n",
        "x = Dropout(0.5)(x)\n",
        "x = Dense(32, activation='relu')(x)\n",
        "x = Dropout(0.8)(x)\n",
        "x = Dense(32, activation='relu')(x)\n",
        "\n",
        "x = Dense(1, activation='linear')(x)\n",
        "model = Model(input_layer, x)\n",
        "\n",
        "model.compile(loss = 'mean_squared_error',\n",
        "              optimizer = tf.keras.optimizers.Adam(2e-4),\n",
        "              metrics = 'mean_squared_error')"
      ],
      "execution_count": null,
      "outputs": [
        {
          "output_type": "stream",
          "text": [
            "(1992, 1, 4) (1992, 1)\n",
            "(None, 64)\n"
          ],
          "name": "stdout"
        }
      ]
    },
    {
      "cell_type": "code",
      "metadata": {
        "id": "Cy6nV7WXTh_S",
        "colab": {
          "base_uri": "https://localhost:8080/"
        },
        "outputId": "6e0d7996-c722-4ebb-df34-d195c3ec0c3a"
      },
      "source": [
        "\n",
        "batch_size = 256\n",
        "\n",
        "epochs = 15 \n",
        "\n",
        "# Fit model\n",
        "history = model.fit(X_train, y_train, batch_size, epochs, validation_split=0.2, shuffle=True)"
      ],
      "execution_count": null,
      "outputs": [
        {
          "output_type": "stream",
          "text": [
            "Epoch 1/15\n",
            "7/7 [==============================] - 3s 94ms/step - loss: 0.0062 - mean_squared_error: 0.0062 - val_loss: 0.0152 - val_mean_squared_error: 0.0152\n",
            "Epoch 2/15\n",
            "7/7 [==============================] - 0s 10ms/step - loss: 0.0051 - mean_squared_error: 0.0051 - val_loss: 0.0131 - val_mean_squared_error: 0.0131\n",
            "Epoch 3/15\n",
            "7/7 [==============================] - 0s 8ms/step - loss: 0.0045 - mean_squared_error: 0.0045 - val_loss: 0.0118 - val_mean_squared_error: 0.0118\n",
            "Epoch 4/15\n",
            "7/7 [==============================] - 0s 9ms/step - loss: 0.0041 - mean_squared_error: 0.0041 - val_loss: 0.0107 - val_mean_squared_error: 0.0107\n",
            "Epoch 5/15\n",
            "7/7 [==============================] - 0s 10ms/step - loss: 0.0039 - mean_squared_error: 0.0039 - val_loss: 0.0096 - val_mean_squared_error: 0.0096\n",
            "Epoch 6/15\n",
            "7/7 [==============================] - 0s 12ms/step - loss: 0.0037 - mean_squared_error: 0.0037 - val_loss: 0.0087 - val_mean_squared_error: 0.0087\n",
            "Epoch 7/15\n",
            "7/7 [==============================] - 0s 12ms/step - loss: 0.0035 - mean_squared_error: 0.0035 - val_loss: 0.0080 - val_mean_squared_error: 0.0080\n",
            "Epoch 8/15\n",
            "7/7 [==============================] - 0s 10ms/step - loss: 0.0035 - mean_squared_error: 0.0035 - val_loss: 0.0074 - val_mean_squared_error: 0.0074\n",
            "Epoch 9/15\n",
            "7/7 [==============================] - 0s 11ms/step - loss: 0.0033 - mean_squared_error: 0.0033 - val_loss: 0.0071 - val_mean_squared_error: 0.0071\n",
            "Epoch 10/15\n",
            "7/7 [==============================] - 0s 9ms/step - loss: 0.0032 - mean_squared_error: 0.0032 - val_loss: 0.0068 - val_mean_squared_error: 0.0068\n",
            "Epoch 11/15\n",
            "7/7 [==============================] - 0s 9ms/step - loss: 0.0031 - mean_squared_error: 0.0031 - val_loss: 0.0064 - val_mean_squared_error: 0.0064\n",
            "Epoch 12/15\n",
            "7/7 [==============================] - 0s 9ms/step - loss: 0.0031 - mean_squared_error: 0.0031 - val_loss: 0.0058 - val_mean_squared_error: 0.0058\n",
            "Epoch 13/15\n",
            "7/7 [==============================] - 0s 8ms/step - loss: 0.0030 - mean_squared_error: 0.0030 - val_loss: 0.0055 - val_mean_squared_error: 0.0055\n",
            "Epoch 14/15\n",
            "7/7 [==============================] - 0s 9ms/step - loss: 0.0029 - mean_squared_error: 0.0029 - val_loss: 0.0052 - val_mean_squared_error: 0.0052\n",
            "Epoch 15/15\n",
            "7/7 [==============================] - 0s 9ms/step - loss: 0.0029 - mean_squared_error: 0.0029 - val_loss: 0.0049 - val_mean_squared_error: 0.0049\n"
          ],
          "name": "stdout"
        }
      ]
    },
    {
      "cell_type": "code",
      "metadata": {
        "id": "_ymO0e_oTh_S",
        "colab": {
          "base_uri": "https://localhost:8080/",
          "height": 295
        },
        "outputId": "ff7a2e26-b9aa-4b04-8308-e03b8919ed17"
      },
      "source": [
        "# Plot the Model loss\n",
        "\n",
        "plt.plot(history.history['loss'])\n",
        "plt.plot(history.history['val_loss'])\n",
        "plt.title('Model Loss')\n",
        "plt.ylabel('Loss')\n",
        "plt.xlabel('Epochs')\n",
        "plt.legend(['train', 'test'])\n",
        "plt.show()\n"
      ],
      "execution_count": null,
      "outputs": [
        {
          "output_type": "display_data",
          "data": {
            "image/png": "[encoded data removed]",
            "text/plain": [
              "<Figure size 432x288 with 1 Axes>"
            ]
          },
          "metadata": {
            "tags": [],
            "needs_background": "light"
          }
        }
      ]
    },
    {
      "cell_type": "markdown",
      "metadata": {
        "id": "bZPc1zwFUWmv"
      },
      "source": [
        "More Advanced RNN Model"
      ]
    },
    {
      "cell_type": "code",
      "metadata": {
        "id": "VJqARE-aUWmx",
        "colab": {
          "base_uri": "https://localhost:8080/"
        },
        "outputId": "e19ef9e9-4896-4381-f5c3-570e291b1b0b"
      },
      "source": [
        "from tensorflow.keras.layers import Embedding, Dense, Dropout, Input, LSTM, GRU\n",
        "print(X_train.shape, y_train.shape)\n",
        "input_layer = Input(shape=(1,4))\n",
        "#x = Embedding(data_high.size, 64)(input_layer)\n",
        "#print(x.shape)\n",
        "x = GRU(64)(input_layer) \n",
        "print(x.shape)\n",
        "x = Dense(64, activation='relu')(x)\n",
        "x = Dropout(0.5)(x)\n",
        "x = Dense(64, activation='relu')(x)\n",
        "x = Dense(32, activation='relu')(x)\n",
        "\n",
        "\n",
        "x = Dense(1, activation='linear')(x)\n",
        "model = Model(input_layer, x)\n",
        "\n",
        "model.compile(loss = 'mean_squared_error',\n",
        "              optimizer = tf.keras.optimizers.Adam(2e-4),\n",
        "              metrics = 'mean_squared_error')\n"
      ],
      "execution_count": null,
      "outputs": [
        {
          "output_type": "stream",
          "text": [
            "(1992, 1, 4) (1992, 1)\n",
            "(None, 64)\n"
          ],
          "name": "stdout"
        }
      ]
    },
    {
      "cell_type": "code",
      "metadata": {
        "id": "kuloKr8QUWmy",
        "colab": {
          "base_uri": "https://localhost:8080/"
        },
        "outputId": "9721fa18-6136-43ad-841b-fc1bd96aa58a"
      },
      "source": [
        "\n",
        "batch_size = 256\n",
        "\n",
        "epochs = 15 \n",
        "\n",
        "# Fit model\n",
        "history = model.fit(X_train, y_train, batch_size, epochs, validation_split=0.2, shuffle=True)"
      ],
      "execution_count": null,
      "outputs": [
        {
          "output_type": "stream",
          "text": [
            "Epoch 1/15\n",
            "7/7 [==============================] - 3s 82ms/step - loss: 0.0056 - mean_squared_error: 0.0056 - val_loss: 0.0119 - val_mean_squared_error: 0.0119\n",
            "Epoch 2/15\n",
            "7/7 [==============================] - 0s 8ms/step - loss: 0.0038 - mean_squared_error: 0.0038 - val_loss: 0.0080 - val_mean_squared_error: 0.0080\n",
            "Epoch 3/15\n",
            "7/7 [==============================] - 0s 9ms/step - loss: 0.0028 - mean_squared_error: 0.0028 - val_loss: 0.0052 - val_mean_squared_error: 0.0052\n",
            "Epoch 4/15\n",
            "7/7 [==============================] - 0s 8ms/step - loss: 0.0022 - mean_squared_error: 0.0022 - val_loss: 0.0035 - val_mean_squared_error: 0.0035\n",
            "Epoch 5/15\n",
            "7/7 [==============================] - 0s 9ms/step - loss: 0.0019 - mean_squared_error: 0.0019 - val_loss: 0.0026 - val_mean_squared_error: 0.0026\n",
            "Epoch 6/15\n",
            "7/7 [==============================] - 0s 8ms/step - loss: 0.0015 - mean_squared_error: 0.0015 - val_loss: 0.0020 - val_mean_squared_error: 0.0020\n",
            "Epoch 7/15\n",
            "7/7 [==============================] - 0s 8ms/step - loss: 0.0012 - mean_squared_error: 0.0012 - val_loss: 0.0014 - val_mean_squared_error: 0.0014\n",
            "Epoch 8/15\n",
            "7/7 [==============================] - 0s 8ms/step - loss: 9.8081e-04 - mean_squared_error: 9.8081e-04 - val_loss: 9.1770e-04 - val_mean_squared_error: 9.1770e-04\n",
            "Epoch 9/15\n",
            "7/7 [==============================] - 0s 8ms/step - loss: 7.3494e-04 - mean_squared_error: 7.3494e-04 - val_loss: 6.0958e-04 - val_mean_squared_error: 6.0958e-04\n",
            "Epoch 10/15\n",
            "7/7 [==============================] - 0s 10ms/step - loss: 6.2536e-04 - mean_squared_error: 6.2536e-04 - val_loss: 4.0052e-04 - val_mean_squared_error: 4.0052e-04\n",
            "Epoch 11/15\n",
            "7/7 [==============================] - 0s 8ms/step - loss: 4.5617e-04 - mean_squared_error: 4.5617e-04 - val_loss: 2.4696e-04 - val_mean_squared_error: 2.4696e-04\n",
            "Epoch 12/15\n",
            "7/7 [==============================] - 0s 8ms/step - loss: 4.0157e-04 - mean_squared_error: 4.0157e-04 - val_loss: 1.3223e-04 - val_mean_squared_error: 1.3223e-04\n",
            "Epoch 13/15\n",
            "7/7 [==============================] - 0s 9ms/step - loss: 3.1579e-04 - mean_squared_error: 3.1579e-04 - val_loss: 6.7302e-05 - val_mean_squared_error: 6.7302e-05\n",
            "Epoch 14/15\n",
            "7/7 [==============================] - 0s 9ms/step - loss: 2.8125e-04 - mean_squared_error: 2.8125e-04 - val_loss: 5.4910e-05 - val_mean_squared_error: 5.4910e-05\n",
            "Epoch 15/15\n",
            "7/7 [==============================] - 0s 8ms/step - loss: 2.6431e-04 - mean_squared_error: 2.6431e-04 - val_loss: 4.6647e-05 - val_mean_squared_error: 4.6647e-05\n"
          ],
          "name": "stdout"
        }
      ]
    },
    {
      "cell_type": "code",
      "metadata": {
        "id": "WiIh66vMUWmy",
        "colab": {
          "base_uri": "https://localhost:8080/",
          "height": 295
        },
        "outputId": "a80891ca-982d-4d38-9944-05bc9d89d20d"
      },
      "source": [
        "# Plot the Model loss\n",
        "plt.plot(history.history['loss'])\n",
        "plt.plot(history.history['val_loss'])\n",
        "plt.title('Model Loss')\n",
        "plt.ylabel('Loss')\n",
        "plt.xlabel('Epochs')\n",
        "plt.legend(['train', 'test'])\n",
        "plt.show()"
      ],
      "execution_count": null,
      "outputs": [
        {
          "output_type": "display_data",
          "data": {
            "image/png": "[encoded data removed]",
            "text/plain": [
              "<Figure size 432x288 with 1 Axes>"
            ]
          },
          "metadata": {
            "tags": [],
            "needs_background": "light"
          }
        }
      ]
    },
    {
      "cell_type": "markdown",
      "metadata": {
        "id": "GkDcoN3CUWmy"
      },
      "source": [
        "Looking at the Predictions..."
      ]
    },
    {
      "cell_type": "code",
      "metadata": {
        "id": "m7dZ2Of1R4kI",
        "colab": {
          "base_uri": "https://localhost:8080/",
          "height": 279
        },
        "outputId": "d92688a8-2261-4d5a-a855-5a1ea9003be8"
      },
      "source": [
        "#scaler.fit_transform(data_high.reshape(-1, 1))\n",
        "\n",
        "predict = model.predict(X_test)\n",
        "predict = scaler.inverse_transform(predict)\n",
        "test = scaler.inverse_transform(y_test.reshape(-1,1))\n",
        "\n",
        "np.concatenate((predict.reshape(len(predict),1), test.reshape(len(test),1)),1 )\n",
        "plt.plot(np.linspace(0,498,num=predict.shape[0]), predict)\n",
        "plt.plot(np.linspace(0,498,num=test.shape[0]),test)\n",
        "plt.ylabel('Price')\n",
        "plt.xlabel('Time')\n",
        "plt.legend(['Prediction', 'Actual'])\n",
        "plt.show()\n"
      ],
      "execution_count": null,
      "outputs": [
        {
          "output_type": "display_data",
          "data": {
            "image/png": "[encoded data removed]",
            "text/plain": [
              "<Figure size 432x288 with 1 Axes>"
            ]
          },
          "metadata": {
            "tags": [],
            "needs_background": "light"
          }
        }
      ]
    }
  ]
}